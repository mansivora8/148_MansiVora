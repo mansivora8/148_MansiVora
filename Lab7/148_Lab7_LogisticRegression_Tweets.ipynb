{
  "nbformat": 4,
  "nbformat_minor": 0,
  "metadata": {
    "colab": {
      "name": "090_Lab7_LogisticRegression-Tweets.ipynb",
      "provenance": [],
      "collapsed_sections": [],
      "authorship_tag": "ABX9TyNAJFeSQvcJ4ndvP3zvYkUI"
    },
    "kernelspec": {
      "name": "python3",
      "display_name": "Python 3"
    },
    "language_info": {
      "name": "python"
    }
  },
  "cells": [
    {
      "cell_type": "markdown",
      "metadata": {
        "id": "HQ_69fJ8FNrZ"
      },
      "source": [
        "# Aim:\n",
        "* Extract features for logistic regression given some text\n",
        "* Implement logistic regression from scratch\n",
        "* Apply logistic regression on a natural language processing task\n",
        "* Test logistic regression\n",
        "\n",
        "We will be using a data set of tweets."
      ]
    },
    {
      "cell_type": "markdown",
      "metadata": {
        "id": "c2DYe8aAiD4q"
      },
      "source": [
        "Import functions and data"
      ]
    },
    {
      "cell_type": "code",
      "metadata": {
        "id": "Xm-BKNqtf2mI"
      },
      "source": [
        "import nltk\n",
        "from nltk.corpus import twitter_samples \n",
        "import pandas as pd"
      ],
      "execution_count": 1,
      "outputs": []
    },
    {
      "cell_type": "code",
      "metadata": {
        "colab": {
          "base_uri": "https://localhost:8080/"
        },
        "id": "-On7kvM0iMia",
        "outputId": "76d7a55d-f20e-4d66-a16f-c2f816616804"
      },
      "source": [
        "nltk.download('twitter_samples')\n",
        "nltk.download('stopwords')"
      ],
      "execution_count": 2,
      "outputs": [
        {
          "output_type": "stream",
          "name": "stdout",
          "text": [
            "[nltk_data] Downloading package twitter_samples to /root/nltk_data...\n",
            "[nltk_data]   Unzipping corpora/twitter_samples.zip.\n",
            "[nltk_data] Downloading package stopwords to /root/nltk_data...\n",
            "[nltk_data]   Unzipping corpora/stopwords.zip.\n"
          ]
        },
        {
          "output_type": "execute_result",
          "data": {
            "text/plain": [
              "True"
            ]
          },
          "metadata": {},
          "execution_count": 2
        }
      ]
    },
    {
      "cell_type": "code",
      "metadata": {
        "id": "-3IM_jRDiOkf"
      },
      "source": [
        "import re\n",
        "import string\n",
        "import numpy as np\n",
        "\n",
        "from nltk.corpus import stopwords\n",
        "from nltk.stem import PorterStemmer\n",
        "from nltk.tokenize import TweetTokenizer"
      ],
      "execution_count": 12,
      "outputs": []
    },
    {
      "cell_type": "code",
      "metadata": {
        "id": "DOi07z9aiSD2"
      },
      "source": [
        "#process_tweet(): cleans the text, tokenizes it into separate words, removes stopwords, and converts words to stems.\n",
        "def process_tweet(tweet):\n",
        "    \"\"\"Process tweet function.\n",
        "    Input:\n",
        "        tweet: a string containing a tweet\n",
        "    Output:\n",
        "        tweets_clean: a list of words containing the processed tweet\n",
        "\n",
        "    \"\"\"\n",
        "    stemmer = PorterStemmer()\n",
        "    stopwords_english = stopwords.words('english')\n",
        "\n",
        "    # remove stock market tickers like $GE\n",
        "    tweet = re.sub(r'\\$\\w*', '', tweet)\n",
        "    # remove old style retweet text \"RT\"\n",
        "    tweet = re.sub(r'^RT[\\s]+', '', tweet)\n",
        "    # remove hyperlinks\n",
        "    tweet = re.sub(r'https?:\\/\\/.*[\\r\\n]*', '', tweet)\n",
        "    # remove hashtags\n",
        "    # only removing the hash # sign from the word\n",
        "    tweet = re.sub(r'#', '', tweet)\n",
        "    # tokenize tweets\n",
        "\n",
        "\n",
        "    tokenizer = TweetTokenizer(preserve_case=False, strip_handles=True, reduce_len=True)\n",
        "    tweet_tokens = tokenizer.tokenize(tweet)\n",
        "\n",
        "    tweets_clean = []\n",
        "    for word in tweet_tokens:\n",
        "            \n",
        "            #############################################################\n",
        "            # 1 remove stopwords\n",
        "            # 2 remove punctuation\n",
        "            # 3 stemming word\n",
        "            # 4 Add it to tweets_clean\n",
        "            if (word not in stopwords_english and word not in string.punctuation):\n",
        "                stem_word = stemmer.stem(word)\n",
        "                tweets_clean.append(stem_word)\n",
        "\n",
        "    return tweets_clean"
      ],
      "execution_count": 5,
      "outputs": []
    },
    {
      "cell_type": "code",
      "metadata": {
        "id": "1_paw_3UieLf"
      },
      "source": [
        "#build_freqs counts how often a word in the 'corpus' (the entire set of tweets) was associated with\n",
        "  # a positive label '1'         or \n",
        "  # a negative label '0', \n",
        "\n",
        "#then builds the freqs dictionary, where each key is a (word,label) tuple, \n",
        "\n",
        "#and the value is the count of its frequency within the corpus of tweets.\n",
        "\n",
        "def build_freqs(tweets, ys):\n",
        "    \"\"\"Build frequencies.\n",
        "    Input:\n",
        "        tweets: a list of tweets\n",
        "        ys: an m x 1 array with the sentiment label of each tweet\n",
        "            (either 0 or 1)\n",
        "    Output:\n",
        "        freqs: a dictionary mapping each (word, sentiment) pair to its\n",
        "        frequency\n",
        "    \"\"\"\n",
        "    # Convert np array to list since zip needs an iterable.\n",
        "    # The squeeze is necessary or the list ends up with one element.\n",
        "    # Also note that this is just a NOP if ys is already a list.\n",
        "    yslist = np.squeeze(ys).tolist()\n",
        "\n",
        "    # Start with an empty dictionary and populate it by looping over all tweets\n",
        "    # and over all processed words in each tweet.\n",
        "    freqs = {}\n",
        "\n",
        "    for y, tweet in zip(yslist, tweets):\n",
        "        for word in process_tweet(tweet):\n",
        "            pair = (word, y)\n",
        "            \n",
        "            #############################################################\n",
        "            #Update the count of pair if present, set it to 1 otherwise\n",
        "            if pair in freqs:\n",
        "                freqs[pair] += 1\n",
        "            else:\n",
        "                freqs[pair] = 1\n",
        "            \n",
        "\n",
        "    return freqs"
      ],
      "execution_count": 6,
      "outputs": []
    },
    {
      "cell_type": "markdown",
      "metadata": {
        "id": "zG07lgkRFNtF"
      },
      "source": [
        "### Prepare the data\n",
        "* The `twitter_samples` contains subsets of 5,000 positive tweets, 5,000 negative tweets, and the full set of 10,000 tweets.  "
      ]
    },
    {
      "cell_type": "code",
      "metadata": {
        "id": "rFNuRc2Bii4w"
      },
      "source": [
        "# select the set of positive and negative tweets\n",
        "all_positive_tweets = twitter_samples.strings('positive_tweets.json')\n",
        "all_negative_tweets = twitter_samples.strings('negative_tweets.json')"
      ],
      "execution_count": 7,
      "outputs": []
    },
    {
      "cell_type": "markdown",
      "metadata": {
        "id": "K1HHc16Jit4b"
      },
      "source": [
        "Train test split: 20% will be in the test set, and 80% in the training set"
      ]
    },
    {
      "cell_type": "code",
      "metadata": {
        "id": "l5rZvJ5fiqye"
      },
      "source": [
        "# split the data into two pieces, one for training and one for testing\n",
        "\n",
        "test_pos = all_positive_tweets[3500:]\n",
        "train_pos = all_positive_tweets[:3500]\n",
        "test_neg = all_negative_tweets[3500:]\n",
        "train_neg = all_negative_tweets[:3500]\n",
        "\n",
        "x_train = train_pos + train_neg \n",
        "x_test = test_pos + test_neg"
      ],
      "execution_count": 16,
      "outputs": []
    },
    {
      "cell_type": "markdown",
      "metadata": {
        "id": "JyC4UAjZFNuT"
      },
      "source": [
        "* Create the numpy array of positive labels and negative labels."
      ]
    },
    {
      "cell_type": "code",
      "metadata": {
        "id": "93eiurzki5ny"
      },
      "source": [
        "# combine positive and negative labels\n",
        "y_train = np.append(np.ones((len(train_pos), 1)), np.zeros((len(train_neg), 1)), axis=0)\n",
        "y_test = np.append(np.ones((len(test_pos), 1)), np.zeros((len(test_neg), 1)), axis=0)"
      ],
      "execution_count": 17,
      "outputs": []
    },
    {
      "cell_type": "markdown",
      "metadata": {
        "id": "RvppFUyLFNu2"
      },
      "source": [
        "* Create the frequency dictionary using the  `build_freqs()` function.  \n",
        "    \n"
      ]
    },
    {
      "cell_type": "code",
      "metadata": {
        "colab": {
          "base_uri": "https://localhost:8080/"
        },
        "id": "NfBvn4rWjBM5",
        "outputId": "3bab9300-c743-4628-8c0d-7746f5194ced"
      },
      "source": [
        "# create frequency dictionary\n",
        "#############################################################\n",
        "freqs = build_freqs(x_train, y_train)\n",
        "\n",
        "# check the output\n",
        "print(\"type(freqs) = \" + str(type(freqs)))\n",
        "print(\"len(freqs) = \" + str(len(freqs.keys())))"
      ],
      "execution_count": 18,
      "outputs": [
        {
          "output_type": "stream",
          "name": "stdout",
          "text": [
            "type(freqs) = <class 'dict'>\n",
            "len(freqs) = 10356\n"
          ]
        }
      ]
    },
    {
      "cell_type": "markdown",
      "metadata": {
        "id": "fJw_OZmF3cK9"
      },
      "source": [
        "* HERE, The `freqs` dictionary is the frequency dictionary that's being built. \n",
        "* The key is the tuple (word, label), such as (\"happy\",1) or (\"happy\",0).  The value stored for each key is the count of how many times the word \"happy\" was associated with a positive label, or how many times \"happy\" was associated with a negative label."
      ]
    },
    {
      "cell_type": "markdown",
      "metadata": {
        "id": "MczxmfJiFNvN"
      },
      "source": [
        "### Process tweet"
      ]
    },
    {
      "cell_type": "code",
      "metadata": {
        "colab": {
          "base_uri": "https://localhost:8080/"
        },
        "id": "Qy7yuW5zjWlE",
        "outputId": "b7e3e1e2-6ad6-4cb7-c873-91305ac78a7b"
      },
      "source": [
        "# Example\n",
        "print('This is an example of a positive tweet: \\n', x_train[0])\n",
        "print('\\nThis is an example of the processed version of the tweet: \\n', process_tweet(x_train[0]))"
      ],
      "execution_count": 19,
      "outputs": [
        {
          "output_type": "stream",
          "name": "stdout",
          "text": [
            "This is an example of a positive tweet: \n",
            " #FollowFriday @France_Inte @PKuchly57 @Milipol_Paris for being top engaged members in my community this week :)\n",
            "\n",
            "This is an example of the processed version of the tweet: \n",
            " ['followfriday', 'top', 'engag', 'member', 'commun', 'week', ':)']\n"
          ]
        }
      ]
    },
    {
      "cell_type": "markdown",
      "metadata": {
        "id": "cVDYiL7aFNvg"
      },
      "source": [
        "#Logistic regression :\n",
        "\n",
        "\n",
        "### Sigmoid\n",
        "\n",
        "$$ h(z) = \\frac{1}{1+\\exp^{-z}} $$\n",
        "\n",
        "It maps the input 'x' to a value that ranges between 0 and 1, and so it can be treated as a probability. \n",
        "\n",
        "\n"
      ]
    },
    {
      "cell_type": "code",
      "metadata": {
        "id": "YIcgPFI8jrvn"
      },
      "source": [
        "def sigmoid(z): \n",
        "       \n",
        "    # calculate the sigmoid of z\n",
        "    #############################################################\n",
        "    h = 1/(1+np.exp(-z))    \n",
        "    return h"
      ],
      "execution_count": 20,
      "outputs": []
    },
    {
      "cell_type": "markdown",
      "metadata": {
        "id": "EgDmpXRpFNwP"
      },
      "source": [
        "### Logistic regression: regression and a sigmoid\n",
        "\n",
        "Logistic regression takes a regular linear regression, and applies a sigmoid to the output of the linear regression.\n",
        "\n",
        "Logistic regression\n",
        "$$ h(z) = \\frac{1}{1+\\exp^{-z}}$$\n",
        "$$z = \\theta_0 x_0 + \\theta_1 x_1 + \\theta_2 x_2 + ... \\theta_N x_N$$\n"
      ]
    },
    {
      "cell_type": "markdown",
      "metadata": {
        "id": "ny2NTg2oFNw6"
      },
      "source": [
        "#### Update the weights:Gradient Descent\n",
        "\n",
        "\n",
        "$$\\nabla_{\\theta_j}J(\\theta) = \\frac{1}{m} \\sum_{i=1}^m(h^{(i)}-y^{(i)})x_j $$\n",
        "\n",
        "* To update the weight $\\theta_j$, we adjust it by subtracting a fraction of the gradient determined by $\\alpha$:\n",
        "$$\\theta_j = \\theta_j - \\alpha \\times \\nabla_{\\theta_j}J(\\theta) $$\n",
        "\n",
        "* The learning rate $\\alpha$ is a value that we choose to control how big a single update will be.\n"
      ]
    },
    {
      "cell_type": "code",
      "metadata": {
        "id": "n1P6hs11j1pz"
      },
      "source": [
        "def gradientDescent(x, y, theta, alpha, num_iters):\n",
        "  \n",
        "    # get 'm', the number of rows in matrix x\n",
        "    m = len(x)\n",
        "    \n",
        "    for i in range(0, num_iters):\n",
        "        \n",
        "        # get z, the dot product of x and theta\n",
        "        #############################################################\n",
        "        z = np.dot(x,theta)\n",
        "                \n",
        "        # get the sigmoid of z\n",
        "        #############################################################\n",
        "        h = sigmoid(z)\n",
        "        \n",
        "        # calculate the cost function\n",
        "        J = (-1/m)*(y.T @ np.log(h) + (1-y).T @ np.log(1-h))\n",
        "\n",
        "        # update the weights theta\n",
        "        #############################################################\n",
        "        theta = theta - (alpha/m) * np.dot(x.transpose(),(h-y))\n",
        "        \n",
        "    J = float(J)\n",
        "    return J, theta"
      ],
      "execution_count": 21,
      "outputs": []
    },
    {
      "cell_type": "markdown",
      "metadata": {
        "id": "-pMQQEM8FNxr"
      },
      "source": [
        "## Extracting the features\n",
        "\n",
        "* Given a list of tweets, extract the features and store them in a matrix. You will extract two features.\n",
        "    * The first feature is the number of positive words in a tweet.\n",
        "    * The second feature is the number of negative words in a tweet. \n",
        "* Then train your logistic regression classifier on these features.\n",
        "* Test the classifier on a validation set. \n"
      ]
    },
    {
      "cell_type": "code",
      "metadata": {
        "id": "WcoGoLecj9yL"
      },
      "source": [
        "def extract_features(tweet, freqs):\n",
        "    '''\n",
        "    Input: \n",
        "        tweet: a list of words for one tweet\n",
        "        freqs: a dictionary corresponding to the frequencies of each tuple (word, label)\n",
        "    Output: \n",
        "        x: a feature vector of dimension (1,3)\n",
        "    '''\n",
        "    # tokenizes, stems, and removes stopwords\n",
        "    #############################################################\n",
        "    word_l = process_tweet(tweet)\n",
        "    \n",
        "    # 3 elements in the form of a 1 x 3 vector\n",
        "    x = np.zeros((1, 3)) \n",
        "    \n",
        "    #bias term is set to 1\n",
        "    x[0,0] = 1 \n",
        "        \n",
        "    # loop through each word in the list of words\n",
        "    for word in word_l:\n",
        "        \n",
        "        # increment the word count for the positive label 1\n",
        "        #############################################################\n",
        "        x[0,1] += freqs.get((word, 1.0),0)\n",
        "        \n",
        "        # increment the word count for the negative label 0\n",
        "        #############################################################\n",
        "        x[0,2] += freqs.get((word, 0.0),0)\n",
        "        \n",
        "    \n",
        "    assert(x.shape == (1, 3))\n",
        "    return x"
      ],
      "execution_count": 22,
      "outputs": []
    },
    {
      "cell_type": "code",
      "metadata": {
        "colab": {
          "base_uri": "https://localhost:8080/"
        },
        "id": "k-ZWXQjrkG83",
        "outputId": "533d5d0b-0e28-4d3a-c1c8-c659a168cc2d"
      },
      "source": [
        "# Check the function\n",
        "\n",
        "# test 1\n",
        "# test on training data\n",
        "tmp1 = extract_features(x_train[0], freqs)\n",
        "print(tmp1)"
      ],
      "execution_count": 23,
      "outputs": [
        {
          "output_type": "stream",
          "name": "stdout",
          "text": [
            "[[1.000e+00 2.663e+03 5.500e+01]]\n"
          ]
        }
      ]
    },
    {
      "cell_type": "code",
      "metadata": {
        "colab": {
          "base_uri": "https://localhost:8080/"
        },
        "id": "71ZwMtvjkMvQ",
        "outputId": "d0042d2d-852b-4589-dc2b-fb65d5a192c6"
      },
      "source": [
        "# test 2:\n",
        "# check for when the words are not in the freqs dictionary\n",
        "tmp2 = extract_features('Dev Parmar', freqs)\n",
        "print(tmp2)"
      ],
      "execution_count": 24,
      "outputs": [
        {
          "output_type": "stream",
          "name": "stdout",
          "text": [
            "[[1. 0. 1.]]\n"
          ]
        }
      ]
    },
    {
      "cell_type": "markdown",
      "metadata": {
        "id": "9oIitRd3FNyi"
      },
      "source": [
        "## Training Your Model\n",
        "\n",
        "To train the model:\n",
        "* Stack the features for all training examples into a matrix `X`. \n",
        "* Call `gradientDescent`"
      ]
    },
    {
      "cell_type": "code",
      "metadata": {
        "colab": {
          "base_uri": "https://localhost:8080/"
        },
        "id": "kibtVpddkUsX",
        "outputId": "80e3c214-93fb-477c-a254-5d9ea1635207"
      },
      "source": [
        "# collect the features 'x' and stack them into a matrix 'X'\n",
        "X = np.zeros((len(x_train), 3))\n",
        "for i in range(len(x_train)):\n",
        "    X[i, :]= extract_features(x_train[i], freqs)\n",
        "\n",
        "# training labels corresponding to X\n",
        "Y = y_train\n",
        "\n",
        "# Apply gradient descent\n",
        "J, theta = gradientDescent(X, Y, np.zeros((3, 1)), 1e-9, 1500)\n",
        "print(f\"The cost after training is {J:.8f}.\")"
      ],
      "execution_count": 29,
      "outputs": [
        {
          "output_type": "stream",
          "name": "stdout",
          "text": [
            "The cost after training is 0.27438503.\n"
          ]
        }
      ]
    },
    {
      "cell_type": "markdown",
      "metadata": {
        "id": "vll8RGjeFNy5"
      },
      "source": [
        "# Test logistic regression\n",
        "\n",
        "Predict whether a tweet is positive or negative.\n",
        "\n",
        "* Given a tweet, process it, then extract the features.\n",
        "* Apply the model's learned weights on the features to get the logits.\n",
        "* Apply the sigmoid to the logits to get the prediction (a value between 0 and 1).\n",
        "\n",
        "$$y_{pred} = sigmoid(\\mathbf{x} \\cdot \\theta)$$"
      ]
    },
    {
      "cell_type": "code",
      "metadata": {
        "id": "TAxDIZSZlJFu"
      },
      "source": [
        "def predict_tweet(tweet, freqs, theta):\n",
        "    '''\n",
        "    Input: \n",
        "        tweet: a string\n",
        "        freqs: a dictionary corresponding to the frequencies of each tuple (word, label)\n",
        "        theta: (3,1) vector of weights\n",
        "    Output: \n",
        "        y_pred: the probability of a tweet being positive or negative\n",
        "    '''\n",
        "    \n",
        "    # extract the features of the tweet and store it into x\n",
        "    #############################################################\n",
        "    x = extract_features(tweet,freqs)\n",
        "    \n",
        "    # make the prediction using x and theta\n",
        "    #############################################################\n",
        "    y_pred = sigmoid(np.dot(x,theta))\n",
        "    \n",
        "    \n",
        "    return y_pred"
      ],
      "execution_count": 30,
      "outputs": []
    },
    {
      "cell_type": "code",
      "metadata": {
        "colab": {
          "base_uri": "https://localhost:8080/"
        },
        "id": "d7XHMvwvlZbE",
        "outputId": "cae3001b-4495-4220-ff3b-c962d244750e"
      },
      "source": [
        "# Run this cell to test your function\n",
        "for tweet in ['I am happy', 'I am bad', 'this movie should have been great.', 'great', 'great great', 'great great great', 'great great great great']:\n",
        "    print( '%s -> %f' % (tweet, predict_tweet(tweet, freqs, theta)))"
      ],
      "execution_count": 31,
      "outputs": [
        {
          "output_type": "stream",
          "name": "stdout",
          "text": [
            "I am happy -> 0.514789\n",
            "I am bad -> 0.494964\n",
            "this movie should have been great. -> 0.512620\n",
            "great -> 0.512810\n",
            "great great -> 0.525604\n",
            "great great great -> 0.538363\n",
            "great great great great -> 0.551073\n"
          ]
        }
      ]
    },
    {
      "cell_type": "markdown",
      "metadata": {
        "id": "pbVn_RgtFNzr"
      },
      "source": [
        "## Check performance using the test set\n"
      ]
    },
    {
      "cell_type": "code",
      "metadata": {
        "id": "-qE9R6TClgEI"
      },
      "source": [
        "def test_logistic_regression(test_x, test_y, freqs, theta):\n",
        "    \"\"\"\n",
        "    Input: \n",
        "        test_x: a list of tweets\n",
        "        test_y: (m, 1) vector with the corresponding labels for the list of tweets\n",
        "        freqs: a dictionary with the frequency of each pair (or tuple)\n",
        "        theta: weight vector of dimension (3, 1)\n",
        "    Output: \n",
        "        accuracy: (# of tweets classified correctly) / (total # of tweets)\n",
        "    \"\"\"\n",
        "    \n",
        "    # the list for storing predictions\n",
        "    y_hat = []\n",
        "    \n",
        "    for tweet in test_x:\n",
        "        # get the label prediction for the tweet\n",
        "        y_pred = predict_tweet(tweet, freqs, theta)\n",
        "        \n",
        "        if y_pred > 0.5:\n",
        "            # append 1.0 to the list\n",
        "            y_hat.append(1)\n",
        "        else:\n",
        "            # append 0 to the list\n",
        "            y_hat.append(0)\n",
        "\n",
        "    # With the above implementation, y_hat is a list, but test_y is (m,1) array\n",
        "    # convert both to one-dimensional arrays in order to compare them using the '==' operator\n",
        "    count=0\n",
        "    y_hat=np.array(y_hat)\n",
        "    m=len(test_y)\n",
        "    #print(m)\n",
        "    \n",
        "    test_y=np.reshape(test_y,m)\n",
        "    #print(y_hat.shape)\n",
        "    #print(test_y.shape)\n",
        "    \n",
        "    accuracy = ((test_y == y_hat).sum())/m\n",
        "    \n",
        "    return accuracy\n"
      ],
      "execution_count": 32,
      "outputs": []
    },
    {
      "cell_type": "code",
      "metadata": {
        "colab": {
          "base_uri": "https://localhost:8080/"
        },
        "id": "Bj9sjVoPll96",
        "outputId": "c2586ed5-978a-4fb4-c2d8-aad08b2f6eb6"
      },
      "source": [
        "tmp_accuracy = test_logistic_regression(x_test, y_test, freqs, theta)\n",
        "print(f\"Logistic regression model's accuracy = {tmp_accuracy:.4f}\")"
      ],
      "execution_count": 33,
      "outputs": [
        {
          "output_type": "stream",
          "name": "stdout",
          "text": [
            "Logistic regression model's accuracy = 0.9923\n"
          ]
        }
      ]
    }
  ]
}