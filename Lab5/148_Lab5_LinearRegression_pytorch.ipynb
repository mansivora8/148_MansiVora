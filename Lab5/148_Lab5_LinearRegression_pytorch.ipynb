{
  "nbformat": 4,
  "nbformat_minor": 0,
  "metadata": {
    "colab": {
      "name": "090_Lab5_LinearRegression-pytorch.ipynb",
      "provenance": [],
      "collapsed_sections": [],
      "authorship_tag": "ABX9TyMjoRsSWomsffQo1xe55pMD"
    },
    "kernelspec": {
      "name": "python3",
      "display_name": "Python 3"
    },
    "language_info": {
      "name": "python"
    }
  },
  "cells": [
    {
      "cell_type": "code",
      "metadata": {
        "id": "to3DBuH3K-XH"
      },
      "source": [
        "import numpy as np\n",
        "import torch"
      ],
      "execution_count": null,
      "outputs": []
    },
    {
      "cell_type": "markdown",
      "metadata": {
        "_uuid": "ecc6e79cdfb6a8ca882895ccc895b61b960b0a04",
        "id": "i1HSrBDb-7t9"
      },
      "source": [
        "## Linear Regression Model using PyTorch built-ins\n",
        "\n",
        "Let's re-implement the same model using some built-in functions and classes from PyTorch.\n",
        "\n",
        "And now using two different targets: Apples and Oranges"
      ]
    },
    {
      "cell_type": "code",
      "metadata": {
        "id": "25Y8IxZJLUx7"
      },
      "source": [
        "import torch.nn as nn\n",
        "\n",
        "# Input (temp, rainfall, humidity)\n",
        "inputs = np.array([[73, 67, 43], [91, 88, 64], [87, 134, 58], [102, 43, 37], [69, 96, 70], [73, 67, 43], [91, 88, 64], [87, 134, 58], [102, 43, 37], [69, 96, 70], [73, 67, 43], [91, 88, 64], [87, 134, 58], [102, 43, 37], [69, 96, 70]], dtype='float32')\n",
        "# Targets (apples, oranges)\n",
        "targets = np.array([[56, 70], [81, 101], [119, 133], [22, 37], [103, 119], \n",
        "                    [56, 70], [81, 101], [119, 133], [22, 37], [103, 119], \n",
        "                    [56, 70], [81, 101], [119, 133], [22, 37], [103, 119]], dtype='float32')"
      ],
      "execution_count": null,
      "outputs": []
    },
    {
      "cell_type": "code",
      "metadata": {
        "id": "jrO6WOxVLiwr"
      },
      "source": [
        "inputs =  torch.from_numpy(inputs)\n",
        "targets = torch.from_numpy(targets)"
      ],
      "execution_count": null,
      "outputs": []
    },
    {
      "cell_type": "markdown",
      "metadata": {
        "_uuid": "a0665466eb5401f40a816b323a34450b2c052c41",
        "id": "O6JT5Ng6-7uj"
      },
      "source": [
        "### Dataset and DataLoader\n",
        "\n",
        "We'll create a `TensorDataset`, which allows access to rows from `inputs` and `targets` as tuples. We'll also create a DataLoader, to split the data into batches while training. It also provides other utilities like shuffling and sampling."
      ]
    },
    {
      "cell_type": "code",
      "metadata": {
        "colab": {
          "base_uri": "https://localhost:8080/"
        },
        "id": "Ca0hmSN7LqtK",
        "outputId": "ebfce833-1998-4d97-ea1a-315399313690"
      },
      "source": [
        "#define dataset\n",
        "from torch.utils.data import TensorDataset, DataLoader\n",
        "dataset = TensorDataset(inputs, targets)\n",
        "dataset[0:4]"
      ],
      "execution_count": null,
      "outputs": [
        {
          "output_type": "execute_result",
          "data": {
            "text/plain": [
              "(tensor([[ 73.,  67.,  43.],\n",
              "         [ 91.,  88.,  64.],\n",
              "         [ 87., 134.,  58.],\n",
              "         [102.,  43.,  37.]]), tensor([[ 56.,  70.],\n",
              "         [ 81., 101.],\n",
              "         [119., 133.],\n",
              "         [ 22.,  37.]]))"
            ]
          },
          "metadata": {},
          "execution_count": 13
        }
      ]
    },
    {
      "cell_type": "code",
      "metadata": {
        "colab": {
          "base_uri": "https://localhost:8080/"
        },
        "id": "jkahPiHNMDSZ",
        "outputId": "a0fcaf61-1f25-41a7-d3fd-d6959a10856f"
      },
      "source": [
        "# Define data loader\n",
        "batch_size = 6\n",
        "dl = DataLoader(dataset, batch_size, shuffle=True)\n",
        "next(iter(dl))"
      ],
      "execution_count": null,
      "outputs": [
        {
          "output_type": "execute_result",
          "data": {
            "text/plain": [
              "[tensor([[102.,  43.,  37.],\n",
              "         [ 91.,  88.,  64.],\n",
              "         [102.,  43.,  37.],\n",
              "         [ 69.,  96.,  70.],\n",
              "         [102.,  43.,  37.],\n",
              "         [ 73.,  67.,  43.]]), tensor([[ 22.,  37.],\n",
              "         [ 81., 101.],\n",
              "         [ 22.,  37.],\n",
              "         [103., 119.],\n",
              "         [ 22.,  37.],\n",
              "         [ 56.,  70.]])]"
            ]
          },
          "metadata": {},
          "execution_count": 14
        }
      ]
    },
    {
      "cell_type": "markdown",
      "metadata": {
        "_uuid": "276a262e1b9e3a048bcd32989013f9c501c59037",
        "id": "Dq8gUbVx-7vK"
      },
      "source": [
        "### nn.Linear\n",
        "Instead of initializing the weights & biases manually, we can define the model using `nn.Linear`."
      ]
    },
    {
      "cell_type": "code",
      "metadata": {
        "colab": {
          "base_uri": "https://localhost:8080/"
        },
        "id": "1svjGWcJMrqy",
        "outputId": "d7a5a73d-9d03-4887-f0b2-6fa075198eba"
      },
      "source": [
        "# Define model\n",
        "model = nn.Linear(3, 2)\n",
        "print(model.weight, end=\"\\n---------\\n\")\n",
        "print(model.bias)"
      ],
      "execution_count": null,
      "outputs": [
        {
          "output_type": "stream",
          "name": "stdout",
          "text": [
            "Parameter containing:\n",
            "tensor([[-0.2071, -0.3320, -0.0652],\n",
            "        [-0.1110,  0.2560,  0.2746]], requires_grad=True)\n",
            "---------\n",
            "Parameter containing:\n",
            "tensor([0.0921, 0.3070], requires_grad=True)\n"
          ]
        }
      ]
    },
    {
      "cell_type": "markdown",
      "metadata": {
        "_uuid": "b3a4a8c499a4680f2533329712de034671dd1cdd",
        "id": "rku14lz3-7vX"
      },
      "source": [
        "### Optimizer\n",
        "Instead of manually manipulating the weights & biases using gradients, we can use the optimizer `optim.SGD`."
      ]
    },
    {
      "cell_type": "code",
      "metadata": {
        "id": "BbJn4UpDM7e4"
      },
      "source": [
        "# Define optimizer\n",
        "opt = torch.optim.SGD(model.parameters(), lr=1e-5)"
      ],
      "execution_count": null,
      "outputs": []
    },
    {
      "cell_type": "markdown",
      "metadata": {
        "_uuid": "28cbe62be55010bd11b31d819cff38da5a772b18",
        "id": "V2ktEA-C-7vl"
      },
      "source": [
        "### Loss Function\n",
        "Instead of defining a loss function manually, we can use the built-in loss function `mse_loss`."
      ]
    },
    {
      "cell_type": "code",
      "metadata": {
        "colab": {
          "base_uri": "https://localhost:8080/"
        },
        "id": "ISKa7DuHUBNw",
        "outputId": "b3691fe0-f957-46c8-cf67-a8db8f34c9eb"
      },
      "source": [
        "# Import nn.functional\n",
        "import torch.nn.functional as F\n",
        "\n",
        "# Define loss function\n",
        "loss_fn = F.mse_loss\n",
        "\n",
        "loss = loss_fn(model(inputs) , targets)\n",
        "print(loss)"
      ],
      "execution_count": null,
      "outputs": [
        {
          "output_type": "stream",
          "name": "stdout",
          "text": [
            "tensor(11183.3008, grad_fn=<MseLossBackward>)\n"
          ]
        }
      ]
    },
    {
      "cell_type": "markdown",
      "metadata": {
        "_uuid": "e833614a69ff18c554a3d89f643ae2f11e0260f6",
        "id": "9jbPdkiO-7wM"
      },
      "source": [
        "### Train the model\n",
        "\n",
        "We are ready to train the model now. We can define a utility function `fit` which trains the model for a given number of epochs."
      ]
    },
    {
      "cell_type": "code",
      "metadata": {
        "id": "1rnK5tb0UIp5"
      },
      "source": [
        "# Define a utility function to train the model\n",
        "def fit(num_epochs, model, loss_fn, opt):\n",
        "    for epoch in range(num_epochs):\n",
        "        for xb,yb in dl:\n",
        "            # Generate predictions\n",
        "            pred = model(xb)\n",
        "            loss = loss_fn(pred, yb)\n",
        "            # Perform gradient descent\n",
        "            loss.backward()\n",
        "            opt.step()\n",
        "            opt.zero_grad()\n",
        "    print('Training loss: ', loss_fn(model(inputs), targets))"
      ],
      "execution_count": null,
      "outputs": []
    },
    {
      "cell_type": "code",
      "metadata": {
        "colab": {
          "base_uri": "https://localhost:8080/"
        },
        "id": "abwZ6XJPUTs5",
        "outputId": "4722a49c-4ecb-474a-e2ec-4f90c0b86cd6"
      },
      "source": [
        "# Train the model for 100 epochs\n",
        "fit(100 , model , loss_fn, opt)\n",
        "\n",
        "# Generate predictions\n",
        "preds = model(inputs)\n",
        "print('\\n', preds)"
      ],
      "execution_count": null,
      "outputs": [
        {
          "output_type": "stream",
          "name": "stdout",
          "text": [
            "Training loss:  tensor(4.7941, grad_fn=<MseLossBackward>)\n",
            "\n",
            " tensor([[ 57.4645,  70.6447],\n",
            "        [ 81.1244,  99.0590],\n",
            "        [120.5678, 136.0859],\n",
            "        [ 22.6848,  38.4798],\n",
            "        [ 99.1279, 115.5410],\n",
            "        [ 57.4645,  70.6447],\n",
            "        [ 81.1244,  99.0590],\n",
            "        [120.5678, 136.0859],\n",
            "        [ 22.6848,  38.4798],\n",
            "        [ 99.1279, 115.5410],\n",
            "        [ 57.4645,  70.6447],\n",
            "        [ 81.1244,  99.0590],\n",
            "        [120.5678, 136.0859],\n",
            "        [ 22.6848,  38.4798],\n",
            "        [ 99.1279, 115.5410]], grad_fn=<AddmmBackward>)\n"
          ]
        }
      ]
    },
    {
      "cell_type": "code",
      "metadata": {
        "colab": {
          "base_uri": "https://localhost:8080/"
        },
        "id": "F9hMMQReUlgy",
        "outputId": "534c0361-2b13-4cb2-9747-9286311012b7"
      },
      "source": [
        "# Compare with targets\n",
        "print(targets)"
      ],
      "execution_count": null,
      "outputs": [
        {
          "output_type": "stream",
          "name": "stdout",
          "text": [
            "tensor([[ 56.,  70.],\n",
            "        [ 81., 101.],\n",
            "        [119., 133.],\n",
            "        [ 22.,  37.],\n",
            "        [103., 119.],\n",
            "        [ 56.,  70.],\n",
            "        [ 81., 101.],\n",
            "        [119., 133.],\n",
            "        [ 22.,  37.],\n",
            "        [103., 119.],\n",
            "        [ 56.,  70.],\n",
            "        [ 81., 101.],\n",
            "        [119., 133.],\n",
            "        [ 22.,  37.],\n",
            "        [103., 119.]])\n"
          ]
        }
      ]
    },
    {
      "cell_type": "markdown",
      "metadata": {
        "_uuid": "2448d9832722f4f2813f8bd80b91daefd901dc2e",
        "id": "b9nvUidI-7xD"
      },
      "source": [
        "Now we can define the model, optimizer and loss function exactly as before."
      ]
    },
    {
      "cell_type": "code",
      "metadata": {
        "colab": {
          "base_uri": "https://localhost:8080/"
        },
        "id": "dq4lNK2pUybn",
        "outputId": "4249b910-cb7d-4207-c7b2-7a4fe3a940d4"
      },
      "source": [
        "fit(100 , model , loss_fn, opt)"
      ],
      "execution_count": null,
      "outputs": [
        {
          "output_type": "stream",
          "name": "stdout",
          "text": [
            "Training loss:  tensor(2.8572, grad_fn=<MseLossBackward>)\n"
          ]
        }
      ]
    },
    {
      "cell_type": "markdown",
      "metadata": {
        "id": "EkKmtFnyVHw-"
      },
      "source": [
        "\n",
        "\n",
        "---\n",
        "\n"
      ]
    },
    {
      "cell_type": "code",
      "metadata": {
        "id": "5DOWHyKIVICW"
      },
      "source": [
        "# Input (temp, rainfall, humidity)\n",
        "inputs = np.array([[73, 67, 43], [91, 88, 64], [87, 134, 58], [102, 43, 37], [69, 96, 70], [73, 67, 43], [91, 88, 64], [87, 134, 58], [102, 43, 37], [69, 96, 70], [73, 67, 43], [91, 88, 64], [87, 134, 58], [102, 43, 37], [69, 96, 70]], dtype='float32')\n",
        "# Targets (apples, oranges)\n",
        "targets = np.array([[56, 70], [81, 101], [119, 133], [22, 37], [103, 119], \n",
        "                    [56, 70], [81, 101], [119, 133], [22, 37], [103, 119], \n",
        "                    [56, 70], [81, 101], [119, 133], [22, 37], [103, 119]], dtype='float32')\n",
        "\n",
        "x_shape = inputs.shape"
      ],
      "execution_count": null,
      "outputs": []
    },
    {
      "cell_type": "code",
      "metadata": {
        "colab": {
          "base_uri": "https://localhost:8080/"
        },
        "id": "T7v8DEEpVP-v",
        "outputId": "73c90cfb-8bed-43fa-f5cc-8a3b3b3b8c37"
      },
      "source": [
        "# weights and biases\n",
        "weights = np.random.rand(2, 3)\n",
        "biases = np.random.rand(15, 2)\n",
        "print(\"Weights  :  \", weights, sep='\\n')\n",
        "print(\"Biases  :  \", biases, sep=\"\\n\")"
      ],
      "execution_count": null,
      "outputs": [
        {
          "output_type": "stream",
          "name": "stdout",
          "text": [
            "Weights  :  \n",
            "[[0.15889786 0.30809507 0.97723848]\n",
            " [0.99365289 0.32188508 0.62443962]]\n",
            "Biases  :  \n",
            "[[9.25900434e-01 5.72090334e-01]\n",
            " [4.94034656e-02 4.64799266e-01]\n",
            " [7.75309160e-02 3.74175258e-01]\n",
            " [9.11091145e-01 9.28912241e-01]\n",
            " [1.90770108e-01 1.01280005e-01]\n",
            " [3.65506576e-01 6.56335188e-01]\n",
            " [3.76629570e-01 7.75377862e-01]\n",
            " [7.69541757e-02 8.65769650e-01]\n",
            " [3.23984404e-01 1.68770441e-01]\n",
            " [5.95965606e-01 4.28800490e-01]\n",
            " [3.63246597e-01 9.11912280e-01]\n",
            " [7.86858836e-01 3.65211112e-03]\n",
            " [1.81152514e-01 6.68850059e-01]\n",
            " [8.39856794e-01 4.27367094e-04]\n",
            " [7.47349697e-01 3.78112774e-01]]\n"
          ]
        }
      ]
    },
    {
      "cell_type": "code",
      "metadata": {
        "id": "gTPnGnLIVhiD"
      },
      "source": [
        "# Define the model\n",
        "def model(x):\n",
        "    return x @ np.transpose(weights) + biases"
      ],
      "execution_count": null,
      "outputs": []
    },
    {
      "cell_type": "code",
      "metadata": {
        "colab": {
          "base_uri": "https://localhost:8080/"
        },
        "id": "7Q_qivdiVjCs",
        "outputId": "b965a970-54c7-4af1-a661-cf8d3970c804"
      },
      "source": [
        "# Generate predictions\n",
        "pred = model(inputs)\n",
        "\n",
        "# Compare with targets\n",
        "print(\"Predictions : \", pred, sep=\"\\n\")\n",
        "print(\"\\nTargets : \", targets, sep=\"\\n\")"
      ],
      "execution_count": null,
      "outputs": [
        {
          "output_type": "stream",
          "name": "stdout",
          "text": [
            "Predictions : \n",
            "[[ 75.18906814 121.52595554]\n",
            " [104.16473707 159.17723526]\n",
            " [111.86621548 166.1720758 ]\n",
            " [ 66.5245841  139.22683154]\n",
            " [109.13854232 143.27507081]\n",
            " [ 74.62867428 121.61020039]\n",
            " [104.49196317 159.48781386]\n",
            " [111.86563874 166.66367019]\n",
            " [ 65.93747736 138.46668974]\n",
            " [109.54373782 143.60259129]\n",
            " [ 74.6264143  121.86577749]\n",
            " [104.90219244 158.71608811]\n",
            " [111.96983708 166.4667506 ]\n",
            " [ 66.45334975 138.29834666]\n",
            " [109.69512191 143.55190358]]\n",
            "\n",
            "Targets : \n",
            "[[ 56.  70.]\n",
            " [ 81. 101.]\n",
            " [119. 133.]\n",
            " [ 22.  37.]\n",
            " [103. 119.]\n",
            " [ 56.  70.]\n",
            " [ 81. 101.]\n",
            " [119. 133.]\n",
            " [ 22.  37.]\n",
            " [103. 119.]\n",
            " [ 56.  70.]\n",
            " [ 81. 101.]\n",
            " [119. 133.]\n",
            " [ 22.  37.]\n",
            " [103. 119.]]\n"
          ]
        }
      ]
    },
    {
      "cell_type": "code",
      "metadata": {
        "id": "f-idm847VjJL"
      },
      "source": [
        "# MSE loss\n",
        "def mse(t1, t2):\n",
        "    diff = t1 - t2\n",
        "    return np.sum(diff * diff) / len(diff)"
      ],
      "execution_count": null,
      "outputs": []
    },
    {
      "cell_type": "code",
      "metadata": {
        "colab": {
          "base_uri": "https://localhost:8080/"
        },
        "id": "0i6PAgVwXMfB",
        "outputId": "d7a611c4-5e72-4dae-c5a6-73addb93fee5"
      },
      "source": [
        "# Compute loss\n",
        "loss = mse(pred, targets)\n",
        "print(loss)"
      ],
      "execution_count": null,
      "outputs": [
        {
          "output_type": "stream",
          "name": "stdout",
          "text": [
            "4212.727087920074\n"
          ]
        }
      ]
    },
    {
      "cell_type": "code",
      "metadata": {
        "colab": {
          "base_uri": "https://localhost:8080/"
        },
        "id": "RvipYKyuXQ9a",
        "outputId": "28608b0b-c269-4dc8-cf0d-8ed3ea26d54e"
      },
      "source": [
        "# compute gradients\n",
        "biases_grad = (pred - targets) * 2/x_shape[0]\n",
        "weights_grad = (np.matmul(np.transpose((pred - targets)), inputs)) * 2/x_shape[0]\n",
        "\n",
        "print(\"Weights gradient  :  \",weights_grad, sep=\"\\n\")\n",
        "print(\"\\nBiases gradient  :  \",biases_grad, sep=\"\\n\")"
      ],
      "execution_count": null,
      "outputs": [
        {
          "output_type": "stream",
          "name": "stdout",
          "text": [
            "Weights gradient  :  \n",
            "[[3144.36566689 1961.67479587 1597.58057652]\n",
            " [9611.46031891 7911.3457045  5342.37192436]]\n",
            "\n",
            "Biases gradient  :  \n",
            "[[ 2.55854242  6.87012741]\n",
            " [ 3.08863161  7.7569647 ]\n",
            " [-0.95117127  4.42294344]\n",
            " [ 5.93661121 13.63024421]\n",
            " [ 0.81847231  3.23667611]\n",
            " [ 2.48382324  6.88136005]\n",
            " [ 3.13226176  7.79837518]\n",
            " [-0.95124817  4.48848936]\n",
            " [ 5.85833031 13.52889197]\n",
            " [ 0.87249838  3.28034551]\n",
            " [ 2.48352191  6.915437  ]\n",
            " [ 3.18695899  7.69547841]\n",
            " [-0.93735506  4.46223341]\n",
            " [ 5.9271133  13.50644622]\n",
            " [ 0.89268292  3.27358714]]\n"
          ]
        }
      ]
    },
    {
      "cell_type": "code",
      "metadata": {
        "id": "3R6nMSqMXhsM"
      },
      "source": [
        "# Adjust weights\n",
        "weights -= weights_grad * 1e-4\n",
        "biases -= biases_grad * 1e-4"
      ],
      "execution_count": null,
      "outputs": []
    },
    {
      "cell_type": "code",
      "metadata": {
        "colab": {
          "base_uri": "https://localhost:8080/"
        },
        "id": "EJrQfEu_Xk7f",
        "outputId": "90cf1849-4415-4443-ec66-8929d09e8fa2"
      },
      "source": [
        "print(\"Weights  :  \", weights, sep='\\n')\n",
        "print(\"\\nBiases  :  \", biases, sep=\"\\n\")"
      ],
      "execution_count": null,
      "outputs": [
        {
          "output_type": "stream",
          "name": "stdout",
          "text": [
            "Weights  :  \n",
            "[[-0.18698237  0.09231084  0.80150461]\n",
            " [-0.06360775 -0.54836294  0.03677871]]\n",
            "\n",
            "Biases  :  \n",
            "[[ 0.92561899  0.57133462]\n",
            " [ 0.04906372  0.463946  ]\n",
            " [ 0.07763554  0.37368873]\n",
            " [ 0.91043812  0.92741291]\n",
            " [ 0.19068008  0.10092397]\n",
            " [ 0.36523336  0.65557824]\n",
            " [ 0.37628502  0.77452004]\n",
            " [ 0.07705881  0.86527592]\n",
            " [ 0.32333999  0.16728226]\n",
            " [ 0.59586963  0.42843965]\n",
            " [ 0.36297341  0.91115158]\n",
            " [ 0.78650827  0.00280561]\n",
            " [ 0.18125562  0.66835921]\n",
            " [ 0.83920481 -0.00105834]\n",
            " [ 0.7472515   0.37775268]]\n"
          ]
        }
      ]
    },
    {
      "cell_type": "code",
      "metadata": {
        "colab": {
          "base_uri": "https://localhost:8080/"
        },
        "id": "gsvha4VOXpA7",
        "outputId": "5f3272a0-8d6e-4952-ee5b-22901e1a430e"
      },
      "source": [
        "# Calculate loss\n",
        "pred = model(inputs)\n",
        "loss = mse(pred, targets)\n",
        "print(loss)"
      ],
      "execution_count": null,
      "outputs": [
        {
          "output_type": "stream",
          "name": "stdout",
          "text": [
            "24760.57018066554\n"
          ]
        }
      ]
    },
    {
      "cell_type": "code",
      "metadata": {
        "id": "RACbAzE6Xx1T"
      },
      "source": [
        "# repeating same for 200 times\n",
        "for i in range(200):\n",
        "    pred = model(inputs)\n",
        "    loss = mse(pred, targets)\n",
        "    \n",
        "    biases_grad = ((((inputs@np.transpose(weights)) + biases) - targets)) * 2/x_shape[0]\n",
        "    weights_grad = (np.matmul(np.transpose((((inputs@np.transpose(weights)) + biases) - targets)), inputs)) * 2/x_shape[0]\n",
        "\n",
        "    weights -= weights_grad * 1e-4\n",
        "    biases -= biases_grad * 1e-4"
      ],
      "execution_count": null,
      "outputs": []
    },
    {
      "cell_type": "code",
      "metadata": {
        "colab": {
          "base_uri": "https://localhost:8080/"
        },
        "id": "_XOCb8gJX8sJ",
        "outputId": "f9e3f363-f7f1-46ba-f3a1-92b4f0b480df"
      },
      "source": [
        "# Calculate loss\n",
        "pred = model(inputs)\n",
        "loss = mse(pred, targets)\n",
        "print(loss)"
      ],
      "execution_count": null,
      "outputs": [
        {
          "output_type": "stream",
          "name": "stdout",
          "text": [
            "1.3713379933587668e+169\n"
          ]
        }
      ]
    },
    {
      "cell_type": "code",
      "metadata": {
        "colab": {
          "base_uri": "https://localhost:8080/"
        },
        "id": "Ik_wm1cuYAvD",
        "outputId": "d2475141-cc88-44f8-90c4-22fc96731822"
      },
      "source": [
        "# Print predictions\n",
        "print(pred)"
      ],
      "execution_count": null,
      "outputs": [
        {
          "output_type": "stream",
          "name": "stdout",
          "text": [
            "[[-8.34132791e+83 -2.86184797e+84]\n",
            " [-1.09608887e+84 -3.76059992e+84]\n",
            " [-1.29532690e+84 -4.44417088e+84]\n",
            " [-8.30482218e+83 -2.84932313e+84]\n",
            " [-1.05075472e+84 -3.60506181e+84]\n",
            " [-8.34132791e+83 -2.86184797e+84]\n",
            " [-1.09608887e+84 -3.76059992e+84]\n",
            " [-1.29532690e+84 -4.44417088e+84]\n",
            " [-8.30482218e+83 -2.84932313e+84]\n",
            " [-1.05075472e+84 -3.60506181e+84]\n",
            " [-8.34132791e+83 -2.86184797e+84]\n",
            " [-1.09608887e+84 -3.76059992e+84]\n",
            " [-1.29532690e+84 -4.44417088e+84]\n",
            " [-8.30482218e+83 -2.84932313e+84]\n",
            " [-1.05075472e+84 -3.60506181e+84]]\n"
          ]
        }
      ]
    },
    {
      "cell_type": "code",
      "metadata": {
        "colab": {
          "base_uri": "https://localhost:8080/"
        },
        "id": "4HxbqS5XYC_T",
        "outputId": "a217a101-bfa5-45aa-d24e-3a170b2b42f1"
      },
      "source": [
        "# Print targets\n",
        "print(targets)"
      ],
      "execution_count": null,
      "outputs": [
        {
          "output_type": "stream",
          "name": "stdout",
          "text": [
            "[[ 56.  70.]\n",
            " [ 81. 101.]\n",
            " [119. 133.]\n",
            " [ 22.  37.]\n",
            " [103. 119.]\n",
            " [ 56.  70.]\n",
            " [ 81. 101.]\n",
            " [119. 133.]\n",
            " [ 22.  37.]\n",
            " [103. 119.]\n",
            " [ 56.  70.]\n",
            " [ 81. 101.]\n",
            " [119. 133.]\n",
            " [ 22.  37.]\n",
            " [103. 119.]]\n"
          ]
        }
      ]
    }
  ]
}