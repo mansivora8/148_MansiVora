{
  "nbformat": 4,
  "nbformat_minor": 0,
  "metadata": {
    "kernelspec": {
      "display_name": "Python 3",
      "language": "python",
      "name": "python3"
    },
    "language_info": {
      "name": "python",
      "version": "3.6.6",
      "mimetype": "text/x-python",
      "codemirror_mode": {
        "name": "ipython",
        "version": 3
      },
      "pygments_lexer": "ipython3",
      "nbconvert_exporter": "python",
      "file_extension": ".py"
    },
    "colab": {
      "name": "090_Lab5_LinearRegression.ipynb",
      "provenance": [],
      "collapsed_sections": []
    }
  },
  "cells": [
    {
      "cell_type": "code",
      "metadata": {
        "_cell_guid": "79c7e3d0-c299-4dcb-8224-4455121ee9b0",
        "_uuid": "d629ff2d2480ee46fbb7e2d37f6b5fab8052498a",
        "trusted": true,
        "id": "v0BtAX1--7l_"
      },
      "source": [
        "import numpy as np\n",
        "import torch\n",
        "from sklearn.linear_model import LinearRegression"
      ],
      "execution_count": null,
      "outputs": []
    },
    {
      "cell_type": "markdown",
      "metadata": {
        "_uuid": "34f006aa7eb4bbc683c39b7059021da900180908",
        "id": "tUurNfvF-7mc"
      },
      "source": [
        "A tensor is a number, vector, matrix or any n-dimensional array."
      ]
    },
    {
      "cell_type": "markdown",
      "metadata": {
        "_uuid": "0b65b6bb4d15127b1d51f09abf616cfd29fa48b4",
        "id": "DAOgSWEp-7oF"
      },
      "source": [
        "## Problem Statement"
      ]
    },
    {
      "cell_type": "markdown",
      "metadata": {
        "_uuid": "c1beecda01bc332596edd193cade30006e3f6cbf",
        "id": "-Fi1M6pd-7oJ"
      },
      "source": [
        "We'll create a model that predicts crop yeilds for apples (*target variable*) by looking at the average temperature, rainfall and humidity (*input variables or features*) in different regions. \n",
        "\n",
        "Here's the training data:\n",
        "\n",
        ">Temp | Rain | Humidity | Prediction\n",
        ">--- | --- | --- | ---\n",
        "> 73 | 67 | 43 | 56\n",
        "> 91 | 88 | 64 | 81\n",
        "> 87 | 134 | 58 | 119\n",
        "> 102 | 43 | 37 | 22\n",
        "> 69 | 96 | 70 | 103\n",
        "\n",
        "In a **linear regression** model, each target variable is estimated to be a weighted sum of the input variables, offset by some constant, known as a bias :\n",
        "\n",
        "```\n",
        "yeild_apple  = w11 * temp + w12 * rainfall + w13 * humidity + b1\n",
        "```\n",
        "\n",
        "It means that the yield of apples is a linear or planar function of the temperature, rainfall & humidity.\n",
        "\n",
        "\n",
        "\n",
        "**Our objective**: Find a suitable set of *weights* and *biases* using the training data, to make accurate predictions."
      ]
    },
    {
      "cell_type": "markdown",
      "metadata": {
        "_uuid": "c24b8195c0e9c6e8e13e169d264484f1f9b3b1ae",
        "id": "h0dmV2Fc-7oL"
      },
      "source": [
        "## Training Data\n",
        "The training data can be represented using 2 matrices (inputs and targets), each with one row per observation and one column for variable."
      ]
    },
    {
      "cell_type": "code",
      "metadata": {
        "trusted": true,
        "_uuid": "dfda99005fc6daf3a49ae1cdd427ccac0aa446b1",
        "id": "MaIf33bV-7oN"
      },
      "source": [
        "# Input (temp, rainfall, humidity)\n",
        "ip = np.array([[73, 67, 43], \n",
        "                   [91, 88, 64], \n",
        "                   [87, 134, 58], \n",
        "                   [102, 43, 37], \n",
        "                   [69, 96, 70]], dtype='float32')"
      ],
      "execution_count": null,
      "outputs": []
    },
    {
      "cell_type": "code",
      "metadata": {
        "trusted": true,
        "_uuid": "bf56faf74f7e29c9ed7523308718a9ab1acc0667",
        "id": "1tnPriBD-7oa"
      },
      "source": [
        "# Target (apples)\n",
        "target = np.array([[56], \n",
        "                    [81], \n",
        "                    [119], \n",
        "                    [22], \n",
        "                    [103]], dtype='float32')"
      ],
      "execution_count": null,
      "outputs": []
    },
    {
      "cell_type": "markdown",
      "metadata": {
        "_uuid": "70d48f83ae4fce7aba7dd78fd58dddc77c598bfd",
        "id": "MyJm3YtE-7oo"
      },
      "source": [
        "Before we build a model, we need to convert inputs and targets to PyTorch tensors."
      ]
    },
    {
      "cell_type": "code",
      "metadata": {
        "colab": {
          "base_uri": "https://localhost:8080/"
        },
        "id": "VZc_D2mfjUI5",
        "outputId": "89d582f1-f4a9-40df-e150-e9c43be24baf"
      },
      "source": [
        "#converting input and target to tensors\n",
        "ip_tensor = torch.tensor(ip)\n",
        "print('Tensor Inputs  :  \\n', ip_tensor)\n",
        "target_tensor = torch.tensor(target)\n",
        "print('\\nTensor targets  :  \\n', target_tensor)"
      ],
      "execution_count": null,
      "outputs": [
        {
          "output_type": "stream",
          "name": "stdout",
          "text": [
            "Tensor Inputs  :  \n",
            " tensor([[ 73.,  67.,  43.],\n",
            "        [ 91.,  88.,  64.],\n",
            "        [ 87., 134.,  58.],\n",
            "        [102.,  43.,  37.],\n",
            "        [ 69.,  96.,  70.]])\n",
            "\n",
            "Tensor targets  :  \n",
            " tensor([[ 56.],\n",
            "        [ 81.],\n",
            "        [119.],\n",
            "        [ 22.],\n",
            "        [103.]])\n"
          ]
        }
      ]
    },
    {
      "cell_type": "markdown",
      "metadata": {
        "_uuid": "652647cd90bd0784ec4dc53472410f7358ee18c9",
        "id": "y0RLCJnb-7o4"
      },
      "source": [
        "## Linear Regression Model (from scratch)\n",
        "\n",
        "The *weights* and *biases* can also be represented as matrices, initialized with random values. The first row of `w` and the first element of `b` are use to predict the first target variable i.e. yield for apples, and similarly the second for oranges."
      ]
    },
    {
      "cell_type": "code",
      "metadata": {
        "id": "DKl8rzqxjnOz",
        "colab": {
          "base_uri": "https://localhost:8080/"
        },
        "outputId": "1c4a4d76-622b-4520-b30b-677a29fe2029"
      },
      "source": [
        "# Weights and biases\n",
        "weights = torch.randn(1, 3, requires_grad=True)\n",
        "biases = torch.randn(1, requires_grad=True)\n",
        "weights_transpose = torch.transpose(weights, 0, 1)\n",
        "\n",
        "print(\"Weights  :  \",weights)\n",
        "print(\"\\nBiases  :  \",biases)\n",
        "print(\"\\nWeights_transpose  :  \\n\",weights_transpose)"
      ],
      "execution_count": null,
      "outputs": [
        {
          "output_type": "stream",
          "name": "stdout",
          "text": [
            "Weights  :   tensor([[ 0.7125,  0.0496, -0.3919]], requires_grad=True)\n",
            "\n",
            "Biases  :   tensor([-0.5541], requires_grad=True)\n",
            "\n",
            "Weights_transpose  :  \n",
            " tensor([[ 0.7125],\n",
            "        [ 0.0496],\n",
            "        [-0.3919]], grad_fn=<TransposeBackward0>)\n"
          ]
        }
      ]
    },
    {
      "cell_type": "markdown",
      "metadata": {
        "_uuid": "3579a065997cae41f7f504916b6bc07878ac768c",
        "id": "8qNNejI9-7pH"
      },
      "source": [
        "The *model* is simply a function that performs a matrix multiplication of the input `x` and the weights `w` (transposed) and adds the bias `w0` (replicated for each observation).\n",
        "\n",
        "$$\n",
        "\\hspace{2.5cm} X \\hspace{1.1cm} \\times \\hspace{1.2cm} W^T \n",
        "$$\n",
        "\n",
        "$$\n",
        "\\left[ \\begin{array}{cc}\n",
        "1 & 73 & 67 & 43 \\\\\n",
        "1 &91 & 88 & 64 \\\\\n",
        "\\vdots & \\vdots & \\vdots & \\vdots \\\\\n",
        "1 &69 & 96 & 70\n",
        "\\end{array} \\right]\n",
        "%\n",
        "\\times\n",
        "%\n",
        "\\left[ \\begin{array}{cc}\n",
        "w_{0}  \\\\\n",
        "w_{1}  \\\\\n",
        "w_{2}  \\\\\n",
        "w_{3} \n",
        "\\end{array} \\right]\n",
        "%\n",
        "$$"
      ]
    },
    {
      "cell_type": "code",
      "metadata": {
        "id": "5ME-2f3UkxDB"
      },
      "source": [
        "def fit(x, w_t, b):\n",
        "  return (x @ w_t) + b"
      ],
      "execution_count": null,
      "outputs": []
    },
    {
      "cell_type": "markdown",
      "metadata": {
        "id": "OMUfxendk7fQ"
      },
      "source": [
        "The matrix obtained by passing the input data to the model is a set of predictions for the target variables."
      ]
    },
    {
      "cell_type": "code",
      "metadata": {
        "colab": {
          "base_uri": "https://localhost:8080/"
        },
        "id": "wkcP3SKYk-Iy",
        "outputId": "4ec128ff-48cb-4e79-b0be-29ce592de243"
      },
      "source": [
        "#predictions\n",
        "pred = fit(ip_tensor, weights_transpose, biases)\n",
        "print(pred)"
      ],
      "execution_count": null,
      "outputs": [
        {
          "output_type": "stream",
          "name": "stdout",
          "text": [
            "tensor([[37.9306],\n",
            "        [43.5673],\n",
            "        [45.3479],\n",
            "        [59.7566],\n",
            "        [25.9363]], grad_fn=<AddBackward0>)\n"
          ]
        }
      ]
    },
    {
      "cell_type": "markdown",
      "metadata": {
        "id": "gVmxJdmKlOJJ"
      },
      "source": [
        "Compare with targets"
      ]
    },
    {
      "cell_type": "code",
      "metadata": {
        "colab": {
          "base_uri": "https://localhost:8080/"
        },
        "id": "wG_ijY6uHows",
        "outputId": "c17b2225-263b-4c14-ca5b-1ca805ed69ed"
      },
      "source": [
        "print(target_tensor)"
      ],
      "execution_count": null,
      "outputs": [
        {
          "output_type": "stream",
          "name": "stdout",
          "text": [
            "tensor([[ 56.],\n",
            "        [ 81.],\n",
            "        [119.],\n",
            "        [ 22.],\n",
            "        [103.]])\n"
          ]
        }
      ]
    },
    {
      "cell_type": "markdown",
      "metadata": {
        "_uuid": "edaae7266f5d47c5e970e1438a812f10d8d35fb4",
        "id": "hiNOZ2g1-7p7"
      },
      "source": [
        "Because we've started with random weights and biases, the model does not perform a good job of predicting the target varaibles.\n",
        "\n",
        "## Loss Function\n",
        "\n",
        "We can compare the predictions with the actual targets, using the following method: \n",
        "* Calculate the difference between the two matrices (`preds` and `targets`).\n",
        "* Square all elements of the difference matrix to remove negative values.\n",
        "* Calculate the average of the elements in the resulting matrix.\n",
        "\n",
        "The result is a single number, known as the **mean squared error** (MSE)."
      ]
    },
    {
      "cell_type": "code",
      "metadata": {
        "id": "nH73RHHElkmP"
      },
      "source": [
        "def mse(pred, target):\n",
        "  difference = pred - target\n",
        "  return torch.sum(difference * difference) / difference.numel()"
      ],
      "execution_count": null,
      "outputs": []
    },
    {
      "cell_type": "code",
      "metadata": {
        "id": "g1GrxIZ9mRDx"
      },
      "source": [
        "def model(x, w):\n",
        "    return x @ w.T"
      ],
      "execution_count": null,
      "outputs": []
    },
    {
      "cell_type": "code",
      "metadata": {
        "colab": {
          "base_uri": "https://localhost:8080/"
        },
        "id": "zHYqsAMAl2_V",
        "outputId": "e01a4804-c267-4922-c138-08d73e8c3a6e"
      },
      "source": [
        "#compute loss\n",
        "loss = mse(pred, target_tensor)\n",
        "print('Loss   :  ', loss)"
      ],
      "execution_count": null,
      "outputs": [
        {
          "output_type": "stream",
          "name": "stdout",
          "text": [
            "Loss   :   tensor(2903.3398, grad_fn=<DivBackward0>)\n"
          ]
        }
      ]
    },
    {
      "cell_type": "markdown",
      "metadata": {
        "id": "_p6DmVpzmf6h"
      },
      "source": [
        "The resulting number is called the loss, because it indicates how bad the model is at predicting the target variables. Lower the loss, better the model.\n",
        "\n",
        "Compute Gradients\n",
        "\n",
        "With PyTorch, we can automatically compute the gradient or derivative of the loss w.r.t. to the weights and biases, because they have requires_grad set to True.\n",
        "\n",
        "More on autograd: https://pytorch.org/docs/stable/autograd.html#module-torch.autograd\n",
        "\n"
      ]
    },
    {
      "cell_type": "code",
      "metadata": {
        "id": "tbeehZOomhGk"
      },
      "source": [
        "#compute gradient\n",
        "loss.backward()"
      ],
      "execution_count": null,
      "outputs": []
    },
    {
      "cell_type": "markdown",
      "metadata": {
        "id": "6Rpuz1QzIWKM"
      },
      "source": [
        "The gradients are stored in the .grad property of the respective tensors."
      ]
    },
    {
      "cell_type": "code",
      "metadata": {
        "colab": {
          "base_uri": "https://localhost:8080/"
        },
        "id": "Hzxa11K-IT6C",
        "outputId": "3ec1ffaa-cf6e-4eb1-d528-b0097866bc3c"
      },
      "source": [
        "# Gradients for weights\n",
        "print(weights, end=\"\\n-------------\\n\")\n",
        "print(weights.grad)"
      ],
      "execution_count": null,
      "outputs": [
        {
          "output_type": "stream",
          "name": "stdout",
          "text": [
            "tensor([[ 0.7125,  0.0496, -0.3919]], requires_grad=True)\n",
            "-------------\n",
            "tensor([[-5039.7568, -8059.4722, -4576.7837]])\n"
          ]
        }
      ]
    },
    {
      "cell_type": "markdown",
      "metadata": {
        "_uuid": "466dc3a2cc2d4bd2c10ae4cf59cf4627b5cc9c75",
        "id": "6HohuU-I-7q_"
      },
      "source": [
        "A key insight from calculus is that the gradient indicates the rate of change of the loss, or the slope of the loss function w.r.t. the weights and biases. \n",
        "\n",
        "* If a gradient element is **postive**, \n",
        "    * **increasing** the element's value slightly will **increase** the loss.\n",
        "    * **decreasing** the element's value slightly will **decrease** the loss.\n",
        "\n",
        "\n",
        "\n",
        "\n",
        "* If a gradient element is **negative**,\n",
        "    * **increasing** the element's value slightly will **decrease** the loss.\n",
        "    * **decreasing** the element's value slightly will **increase** the loss.\n",
        "    \n",
        "\n",
        "\n",
        "The increase or decrease is proportional to the value of the gradient."
      ]
    },
    {
      "cell_type": "markdown",
      "metadata": {
        "_uuid": "35ed968bfc135bd44eeb100ae401d0628fbc5c63",
        "id": "oRgBMWgV-7rB"
      },
      "source": [
        "Finally, we'll reset the gradients to zero before moving forward, because PyTorch accumulates gradients."
      ]
    },
    {
      "cell_type": "code",
      "metadata": {
        "colab": {
          "base_uri": "https://localhost:8080/"
        },
        "id": "BOkHXcomIoNw",
        "outputId": "556e49f4-fa2e-44d9-93e2-e4e91dff760a"
      },
      "source": [
        "weights.grad.zero_()\n",
        "biases.grad.zero_()\n",
        "print(weights.grad, end=\"\\n-------\\n\")\n",
        "print(biases.grad)"
      ],
      "execution_count": null,
      "outputs": [
        {
          "output_type": "stream",
          "name": "stdout",
          "text": [
            "tensor([[0., 0., 0.]])\n",
            "-------\n",
            "tensor([0.])\n"
          ]
        }
      ]
    },
    {
      "cell_type": "markdown",
      "metadata": {
        "_uuid": "5501c66c9729c4954e9b798a0634a9d84487e639",
        "id": "pjKbQIcT-7rN"
      },
      "source": [
        "## Adjust weights and biases using gradient descent\n",
        "\n",
        "We'll reduce the loss and improve our model using the gradient descent algorithm, which has the following steps:\n",
        "\n",
        "1. Generate predictions\n",
        "2. Calculate the loss\n",
        "3. Compute gradients w.r.t the weights and biases\n",
        "4. Adjust the weights by subtracting a small quantity proportional to the gradient\n",
        "5. Reset the gradients to zero"
      ]
    },
    {
      "cell_type": "code",
      "metadata": {
        "colab": {
          "base_uri": "https://localhost:8080/"
        },
        "id": "mHeyY_4BJP5l",
        "outputId": "1003004e-4c57-4805-c909-441bac76852b"
      },
      "source": [
        "#prediction\n",
        "prediction = fit(ip_tensor, weights.t(), biases)\n",
        "print(prediction)"
      ],
      "execution_count": null,
      "outputs": [
        {
          "output_type": "stream",
          "name": "stdout",
          "text": [
            "tensor([[37.9306],\n",
            "        [43.5673],\n",
            "        [45.3479],\n",
            "        [59.7566],\n",
            "        [25.9363]], grad_fn=<AddBackward0>)\n"
          ]
        }
      ]
    },
    {
      "cell_type": "code",
      "metadata": {
        "colab": {
          "base_uri": "https://localhost:8080/"
        },
        "id": "NMiEHlFgJdqR",
        "outputId": "191c616e-4999-4ee3-9602-3eb4c4170087"
      },
      "source": [
        "#loss\n",
        "loss = mse(prediction, target_tensor)\n",
        "print(loss)"
      ],
      "execution_count": null,
      "outputs": [
        {
          "output_type": "stream",
          "name": "stdout",
          "text": [
            "tensor(2903.3398, grad_fn=<DivBackward0>)\n"
          ]
        }
      ]
    },
    {
      "cell_type": "code",
      "metadata": {
        "id": "WMztiy5TJnen"
      },
      "source": [
        "#compute gradients\n",
        "loss.backward() "
      ],
      "execution_count": null,
      "outputs": []
    },
    {
      "cell_type": "code",
      "metadata": {
        "colab": {
          "base_uri": "https://localhost:8080/"
        },
        "id": "oHXCRFgQJuOf",
        "outputId": "5f0bc9c7-f335-4908-f0aa-0d3bc16ed7a0"
      },
      "source": [
        "# Adjust weights & reset gradients\n",
        "with torch.no_grad():\n",
        "    weights -= weights.grad * 1e-5\n",
        "    biases -= biases.grad * 1e-5\n",
        "    weights.grad.zero_()\n",
        "    biases.grad.zero_()\n",
        "print(weights)"
      ],
      "execution_count": null,
      "outputs": [
        {
          "output_type": "stream",
          "name": "stdout",
          "text": [
            "tensor([[ 0.7629,  0.1301, -0.3461]], requires_grad=True)\n"
          ]
        }
      ]
    },
    {
      "cell_type": "markdown",
      "metadata": {
        "_uuid": "6af10c29db7cb0d6e869b2c30966a34a48a011e2",
        "id": "YbNSWsxh-7so"
      },
      "source": [
        "With the new weights and biases, the model should have a lower loss."
      ]
    },
    {
      "cell_type": "code",
      "metadata": {
        "colab": {
          "base_uri": "https://localhost:8080/"
        },
        "id": "cor0ZgdHJ7h1",
        "outputId": "3210c5de-4038-4022-beeb-2cca43807bf9"
      },
      "source": [
        "# Calculate loss\n",
        "prediction = fit(ip_tensor, weights.t(), biases)\n",
        "loss = mse(prediction, target_tensor)\n",
        "print(loss)"
      ],
      "execution_count": null,
      "outputs": [
        {
          "output_type": "stream",
          "name": "stdout",
          "text": [
            "tensor(1983.8226, grad_fn=<DivBackward0>)\n"
          ]
        }
      ]
    },
    {
      "cell_type": "markdown",
      "metadata": {
        "_uuid": "5201901695f3ea13d7fdd5d985da7e0761c541d0",
        "id": "fV6NlANzKIJa"
      },
      "source": [
        "## Train for multiple epochs\n",
        "\n",
        "To reduce the loss further, we repeat the process of adjusting the weights and biases using the gradients multiple times. Each iteration is called an epoch."
      ]
    },
    {
      "cell_type": "code",
      "metadata": {
        "id": "BM126p44KIgr"
      },
      "source": [
        "# Train for 100 epochs\n",
        "for i in range(100):\n",
        "    prediction = fit(ip_tensor, weights.t(), biases)\n",
        "    loss = mse(prediction, target_tensor)\n",
        "    loss.backward()\n",
        "    with torch.no_grad():\n",
        "        weights -= weights.grad * 1e-5\n",
        "        biases -= biases.grad * 1e-5\n",
        "        weights.grad.zero_()\n",
        "        biases.grad.zero_()"
      ],
      "execution_count": null,
      "outputs": []
    },
    {
      "cell_type": "code",
      "metadata": {
        "colab": {
          "base_uri": "https://localhost:8080/"
        },
        "id": "JY4ayWUAKVi3",
        "outputId": "147e0e8c-e126-4451-e320-623cff55201d"
      },
      "source": [
        "# Calculate loss\n",
        "prediction = fit(ip_tensor, weights.t(), biases)\n",
        "loss = mse(prediction, target_tensor)\n",
        "print(loss)"
      ],
      "execution_count": null,
      "outputs": [
        {
          "output_type": "stream",
          "name": "stdout",
          "text": [
            "tensor(157.3732, grad_fn=<DivBackward0>)\n"
          ]
        }
      ]
    },
    {
      "cell_type": "code",
      "metadata": {
        "colab": {
          "base_uri": "https://localhost:8080/"
        },
        "id": "ckErzux4KcAb",
        "outputId": "16cb7d5c-6965-478e-94bf-f2b3542ee4d9"
      },
      "source": [
        "#prediction\n",
        "print(prediction)"
      ],
      "execution_count": null,
      "outputs": [
        {
          "output_type": "stream",
          "name": "stdout",
          "text": [
            "tensor([[ 60.8336],\n",
            "        [ 79.3799],\n",
            "        [119.2232],\n",
            "        [ 42.4101],\n",
            "        [ 84.4459]], grad_fn=<AddBackward0>)\n"
          ]
        }
      ]
    },
    {
      "cell_type": "code",
      "metadata": {
        "colab": {
          "base_uri": "https://localhost:8080/"
        },
        "id": "c9pg-GU4KhNy",
        "outputId": "219738b1-3dee-4827-c390-0880440b9f9d"
      },
      "source": [
        "#tensor targets\n",
        "print(target_tensor)"
      ],
      "execution_count": null,
      "outputs": [
        {
          "output_type": "stream",
          "name": "stdout",
          "text": [
            "tensor([[ 56.],\n",
            "        [ 81.],\n",
            "        [119.],\n",
            "        [ 22.],\n",
            "        [103.]])\n"
          ]
        }
      ]
    }
  ]
}