{
  "nbformat": 4,
  "nbformat_minor": 0,
  "metadata": {
    "colab": {
      "name": "090_Lab6_LogisticRegression.ipynb",
      "provenance": [],
      "collapsed_sections": [],
      "authorship_tag": "ABX9TyOkSmLWHRNGAyMZCTE325DU"
    },
    "kernelspec": {
      "name": "python3",
      "display_name": "Python 3"
    },
    "language_info": {
      "name": "python"
    }
  },
  "cells": [
    {
      "cell_type": "code",
      "metadata": {
        "id": "PKdCkYCAGsvw"
      },
      "source": [
        "import numpy as np\n",
        "import pandas as pd\n",
        "import io\n",
        "import matplotlib.pyplot as plt"
      ],
      "execution_count": 1,
      "outputs": []
    },
    {
      "cell_type": "code",
      "metadata": {
        "colab": {
          "base_uri": "https://localhost:8080/",
          "height": 221
        },
        "id": "6kVmJ_9THjaZ",
        "outputId": "011388f8-9d76-4e26-a056-95c325b8ba41"
      },
      "source": [
        "from google.colab import drive\n",
        "drive.mount('/content/drive')\n",
        "\n",
        "data = pd.read_csv('/content/drive/MyDrive/Colab Notebooks/ML/Lab6/BuyComputer.csv')\n",
        "data.drop(columns=['User ID',], axis = 1, inplace = True)\n",
        "data.head()"
      ],
      "execution_count": 2,
      "outputs": [
        {
          "output_type": "stream",
          "name": "stdout",
          "text": [
            "Mounted at /content/drive\n"
          ]
        },
        {
          "output_type": "execute_result",
          "data": {
            "text/html": [
              "<div>\n",
              "<style scoped>\n",
              "    .dataframe tbody tr th:only-of-type {\n",
              "        vertical-align: middle;\n",
              "    }\n",
              "\n",
              "    .dataframe tbody tr th {\n",
              "        vertical-align: top;\n",
              "    }\n",
              "\n",
              "    .dataframe thead th {\n",
              "        text-align: right;\n",
              "    }\n",
              "</style>\n",
              "<table border=\"1\" class=\"dataframe\">\n",
              "  <thead>\n",
              "    <tr style=\"text-align: right;\">\n",
              "      <th></th>\n",
              "      <th>Age</th>\n",
              "      <th>EstimatedSalary</th>\n",
              "      <th>Purchased</th>\n",
              "    </tr>\n",
              "  </thead>\n",
              "  <tbody>\n",
              "    <tr>\n",
              "      <th>0</th>\n",
              "      <td>19</td>\n",
              "      <td>19000</td>\n",
              "      <td>0</td>\n",
              "    </tr>\n",
              "    <tr>\n",
              "      <th>1</th>\n",
              "      <td>35</td>\n",
              "      <td>20000</td>\n",
              "      <td>0</td>\n",
              "    </tr>\n",
              "    <tr>\n",
              "      <th>2</th>\n",
              "      <td>26</td>\n",
              "      <td>43000</td>\n",
              "      <td>0</td>\n",
              "    </tr>\n",
              "    <tr>\n",
              "      <th>3</th>\n",
              "      <td>27</td>\n",
              "      <td>57000</td>\n",
              "      <td>0</td>\n",
              "    </tr>\n",
              "    <tr>\n",
              "      <th>4</th>\n",
              "      <td>19</td>\n",
              "      <td>76000</td>\n",
              "      <td>0</td>\n",
              "    </tr>\n",
              "  </tbody>\n",
              "</table>\n",
              "</div>"
            ],
            "text/plain": [
              "   Age  EstimatedSalary  Purchased\n",
              "0   19            19000          0\n",
              "1   35            20000          0\n",
              "2   26            43000          0\n",
              "3   27            57000          0\n",
              "4   19            76000          0"
            ]
          },
          "metadata": {},
          "execution_count": 2
        }
      ]
    },
    {
      "cell_type": "code",
      "metadata": {
        "id": "9yhzb68c7rNN"
      },
      "source": [
        "#Declare label as last column in the source file\n",
        "label = data.iloc[:,-1].values\n",
        "# print(label)\n",
        "\n",
        "#Declare X as all columns excluding last\n",
        "x = data.iloc[:,:-1].values\n",
        "# print('\\n', x)"
      ],
      "execution_count": 60,
      "outputs": []
    },
    {
      "cell_type": "code",
      "metadata": {
        "id": "cIDtGMDhIP0W"
      },
      "source": [
        "#splitting data\n",
        "from sklearn.model_selection import train_test_split\n",
        "x_train, x_test, y_train, y_test   = train_test_split(x, label, test_size = 0.40, random_state = 90)\n",
        "# print(x_train, '\\n', x_test, '\\n\\n', y_train, '\\n', y_test)"
      ],
      "execution_count": 61,
      "outputs": []
    },
    {
      "cell_type": "code",
      "metadata": {
        "id": "ChWM7Bd7IbPA"
      },
      "source": [
        "#scaling data\n",
        "from sklearn.preprocessing import StandardScaler\n",
        "sc = StandardScaler()\n",
        "\n",
        "x_train = sc.fit_transform(x_train)\n",
        "x_test = sc.transform(x_test)"
      ],
      "execution_count": 62,
      "outputs": []
    },
    {
      "cell_type": "code",
      "metadata": {
        "colab": {
          "base_uri": "https://localhost:8080/"
        },
        "id": "DuhNMM3g8kgU",
        "outputId": "7cee3cd8-4321-4a5d-80e8-7ded32e3e2a0"
      },
      "source": [
        "#variables to calculate sigmoid function\n",
        "y_pred = []\n",
        "x_length = len(x_train[0])\n",
        "w = []\n",
        "b = 0.2\n",
        "print(x_length)"
      ],
      "execution_count": 63,
      "outputs": [
        {
          "output_type": "stream",
          "name": "stdout",
          "text": [
            "2\n"
          ]
        }
      ]
    },
    {
      "cell_type": "code",
      "metadata": {
        "colab": {
          "base_uri": "https://localhost:8080/"
        },
        "id": "jM4Yn0cD80oa",
        "outputId": "0dadcbfc-6059-4fb3-8af9-360e1ebef458"
      },
      "source": [
        "entries = len(x_train[:, 0])\n",
        "print(entries)"
      ],
      "execution_count": 64,
      "outputs": [
        {
          "output_type": "stream",
          "name": "stdout",
          "text": [
            "240\n"
          ]
        }
      ]
    },
    {
      "cell_type": "code",
      "metadata": {
        "colab": {
          "base_uri": "https://localhost:8080/"
        },
        "id": "43mVmUdG9LqA",
        "outputId": "81bf093a-e9df-4838-84b6-8000fa1cacf0"
      },
      "source": [
        "for weight in range(x_length):\n",
        "  w.append(0)\n",
        "w"
      ],
      "execution_count": 65,
      "outputs": [
        {
          "output_type": "execute_result",
          "data": {
            "text/plain": [
              "[0, 0]"
            ]
          },
          "metadata": {},
          "execution_count": 65
        }
      ]
    },
    {
      "cell_type": "code",
      "metadata": {
        "id": "-TfrMka89VN2"
      },
      "source": [
        "#sigmoid function\n",
        "def sigmoid(z):\n",
        "  return 1 / (1 + np.exp(-z))"
      ],
      "execution_count": 66,
      "outputs": []
    },
    {
      "cell_type": "code",
      "metadata": {
        "id": "034AnZWc9dNO"
      },
      "source": [
        "def predict(inputs):\n",
        "    z = np.dot(w, inputs) + b\n",
        "    temp = sigmoid(z)\n",
        "    return temp"
      ],
      "execution_count": 67,
      "outputs": []
    },
    {
      "cell_type": "code",
      "metadata": {
        "id": "jOwYZs_k9kmK"
      },
      "source": [
        "#Loss function\n",
        "def loss_func(y, a):\n",
        "    J = -(y * np.log(a) + (1-y) * np.log(1-a))\n",
        "    return J "
      ],
      "execution_count": 68,
      "outputs": []
    },
    {
      "cell_type": "code",
      "metadata": {
        "id": "G79fmcF69wyM"
      },
      "source": [
        "dw = []\n",
        "db = 0\n",
        "J = 0\n",
        "alpha = 0.1\n",
        "for x in range(x_length):\n",
        "    dw.append(0)"
      ],
      "execution_count": 69,
      "outputs": []
    },
    {
      "cell_type": "code",
      "metadata": {
        "id": "F7q9BF1_90qL"
      },
      "source": [
        "#Repeating the process 3000 times\n",
        "for iter in range(3000):\n",
        "    for i in range(entries):\n",
        "        local_x = x_train[i]\n",
        "        a = predict(local_x)   \n",
        "        dz = a - y_train[i]\n",
        "        J += loss_func(y_train[i],a)\n",
        "\n",
        "        for j in range(x_length):\n",
        "            dw[j] = dw[j] + (local_x[j] * dz)\n",
        "\n",
        "        db += dz\n",
        "    J = J / entries\n",
        "    db = db / entries\n",
        "\n",
        "    for x in range(x_length):\n",
        "        dw[x] = dw[x] / entries\n",
        "\n",
        "    for x in range(x_length):\n",
        "        w[x] = w[x] - (alpha * dw[x])\n",
        "    b = b - (alpha * db)         \n",
        "    J=0\n"
      ],
      "execution_count": 70,
      "outputs": []
    },
    {
      "cell_type": "code",
      "metadata": {
        "colab": {
          "base_uri": "https://localhost:8080/"
        },
        "id": "VSgiu1jR98Dj",
        "outputId": "8ab4af1a-fc77-4aab-c218-a426d94e5d04"
      },
      "source": [
        "#Print weight\n",
        "print(w)\n",
        "\n",
        "#print bias\n",
        "print('\\n', b)"
      ],
      "execution_count": 71,
      "outputs": [
        {
          "output_type": "stream",
          "name": "stdout",
          "text": [
            "[2.045210781397487, 0.880818325508297]\n",
            "\n",
            " -1.009320513286345\n"
          ]
        }
      ]
    },
    {
      "cell_type": "code",
      "metadata": {
        "id": "dN6DHqpp_W_9"
      },
      "source": [
        "#predicting the label\n",
        "for x in range(len(y_test)):\n",
        "    y_pred.append(predict(x_test[x]))"
      ],
      "execution_count": 72,
      "outputs": []
    },
    {
      "cell_type": "code",
      "metadata": {
        "colab": {
          "base_uri": "https://localhost:8080/"
        },
        "id": "xJ4uOkGBbsQ0",
        "outputId": "b9ce0836-d342-4169-a38a-11fab21e8b37"
      },
      "source": [
        "#print actual and predicted values in a table\n",
        "print(\"Actual\\t\\tPredicted\")\n",
        "for x in range(len(y_pred)):\n",
        "    print(y_test[x] ,y_pred[x], sep=\"\\t\\t\")\n",
        "    if(y_pred[x] >= 0.5):\n",
        "        y_pred[x] = 1\n",
        "    else:\n",
        "        y_pred[x] = 0"
      ],
      "execution_count": 73,
      "outputs": [
        {
          "output_type": "stream",
          "name": "stdout",
          "text": [
            "Actual\t\tPredicted\n",
            "0\t\t0.09495385415608189\n",
            "0\t\t0.2726353232954582\n",
            "0\t\t0.29884774955058285\n",
            "0\t\t0.05565502334379452\n",
            "1\t\t0.18352661428753772\n",
            "0\t\t0.4649645536348355\n",
            "0\t\t0.017107927633963564\n",
            "1\t\t0.5361864397756368\n",
            "1\t\t0.6035090232793952\n",
            "0\t\t0.3326274619554723\n",
            "0\t\t0.30771032573508933\n",
            "1\t\t0.486549513347598\n",
            "1\t\t0.7263259675924435\n",
            "0\t\t0.24099831516868103\n",
            "1\t\t0.8668411115575944\n",
            "0\t\t0.052767474799235346\n",
            "0\t\t0.07804215554392309\n",
            "0\t\t0.17354855963327032\n",
            "0\t\t0.2968702092647616\n",
            "0\t\t0.13971154254849846\n",
            "0\t\t0.1320365971514282\n",
            "0\t\t0.1474719222273354\n",
            "0\t\t0.003234837728561503\n",
            "1\t\t0.9461486967304721\n",
            "1\t\t0.5291250707931884\n",
            "0\t\t0.051057189410825564\n",
            "0\t\t0.012949526962622093\n",
            "0\t\t0.20277141560163728\n",
            "0\t\t0.06896600974564439\n",
            "0\t\t0.1848869170701997\n",
            "0\t\t0.12886474717013843\n",
            "0\t\t0.1931113658038719\n",
            "0\t\t0.30521959683581973\n",
            "1\t\t0.8946711557508897\n",
            "0\t\t0.3693677364940564\n",
            "1\t\t0.31078318214301426\n",
            "1\t\t0.6991884954167445\n",
            "0\t\t0.1214596789616423\n",
            "0\t\t0.26801241329259007\n",
            "1\t\t0.9795375543918224\n",
            "0\t\t0.02405953389804627\n",
            "1\t\t0.7563792513851995\n",
            "0\t\t0.31069675881827763\n",
            "0\t\t0.34413420877025097\n",
            "0\t\t0.08948189589944504\n",
            "1\t\t0.31126812519796393\n",
            "1\t\t0.8462033499663306\n",
            "0\t\t0.04158819725820994\n",
            "0\t\t0.01228123181333271\n",
            "0\t\t0.10727334656976453\n",
            "0\t\t0.08429590288560251\n",
            "0\t\t0.19714760035076367\n",
            "1\t\t0.9552147680210817\n",
            "0\t\t0.039501074098231295\n",
            "1\t\t0.2612497968389469\n",
            "1\t\t0.5471612599050314\n",
            "0\t\t0.1380394979223131\n",
            "1\t\t0.8524393401565838\n",
            "0\t\t0.08182166791978021\n",
            "0\t\t0.3654982732318103\n",
            "1\t\t0.9851257684242735\n",
            "0\t\t0.012085729542950972\n",
            "0\t\t0.35047293791734535\n",
            "0\t\t0.20277141560163728\n",
            "0\t\t0.04808425761488228\n",
            "0\t\t0.42975382169206294\n",
            "1\t\t0.9099055887736679\n",
            "0\t\t0.05478647647852987\n",
            "1\t\t0.9735139128353767\n",
            "0\t\t0.013346932102867571\n",
            "0\t\t0.6775410729391175\n",
            "1\t\t0.941064280339511\n",
            "0\t\t0.007858932267070589\n",
            "0\t\t0.009906112492243267\n",
            "0\t\t0.020222887297905695\n",
            "1\t\t0.9923366472847666\n",
            "0\t\t0.20387112511281258\n",
            "0\t\t0.009414467504535319\n",
            "1\t\t0.31166691154215753\n",
            "1\t\t0.6755601976762766\n",
            "1\t\t0.8277604044409363\n",
            "0\t\t0.27353379060435085\n",
            "0\t\t0.03181024713044733\n",
            "0\t\t0.19094208557857836\n",
            "0\t\t0.07033807926105148\n",
            "0\t\t0.7891188448568287\n",
            "1\t\t0.3731596769722776\n",
            "0\t\t0.07048620461345192\n",
            "0\t\t0.015359413778800993\n",
            "0\t\t0.0389739992966564\n",
            "0\t\t0.31427341277212323\n",
            "0\t\t0.04140816807599294\n",
            "0\t\t0.04808425761488228\n",
            "1\t\t0.9805859478489348\n",
            "0\t\t0.006004637718547069\n",
            "0\t\t0.35955896613518384\n",
            "0\t\t0.2621242648520589\n",
            "1\t\t0.9327637758115657\n",
            "1\t\t0.863313291728248\n",
            "0\t\t0.047124284106493025\n",
            "0\t\t0.12625650639518626\n",
            "1\t\t0.4063999096695063\n",
            "0\t\t0.14112599365007153\n",
            "1\t\t0.4504221286450428\n",
            "1\t\t0.9145634341249385\n",
            "1\t\t0.9302581263273597\n",
            "0\t\t0.3742189839436397\n",
            "0\t\t0.31069675881827763\n",
            "0\t\t0.11297463245121858\n",
            "0\t\t0.6620819161942187\n",
            "1\t\t0.954416309146764\n",
            "0\t\t0.5872145085630003\n",
            "0\t\t0.03373888288901831\n",
            "0\t\t0.2968702092647616\n",
            "0\t\t0.42688437058472906\n",
            "0\t\t0.11799322944009744\n",
            "0\t\t0.018081358735052414\n",
            "0\t\t0.19129193123819593\n",
            "1\t\t0.6976735521435163\n",
            "1\t\t0.9249019687971934\n",
            "0\t\t0.019101538827856594\n",
            "1\t\t0.9772125674375803\n",
            "1\t\t0.9073968068806653\n",
            "0\t\t0.004227897471615066\n",
            "1\t\t0.36392525817553334\n",
            "1\t\t0.387942425624472\n",
            "0\t\t0.08520488741929028\n",
            "0\t\t0.09159804414080132\n",
            "1\t\t0.6452331883225366\n",
            "0\t\t0.07004269142582074\n",
            "0\t\t0.017709231720113527\n",
            "1\t\t0.4154575243982632\n",
            "1\t\t0.9738720487840765\n",
            "0\t\t0.06363537661563615\n",
            "0\t\t0.29884774955058285\n",
            "0\t\t0.023196381013972353\n",
            "1\t\t0.4188569852824436\n",
            "0\t\t0.09557377382235402\n",
            "1\t\t0.7498428126570157\n",
            "0\t\t0.014568585588825544\n",
            "1\t\t0.5843710994879513\n",
            "0\t\t0.005921760419628494\n",
            "0\t\t0.18312738434923148\n",
            "1\t\t0.9691662713742237\n",
            "1\t\t0.8990073689087873\n",
            "1\t\t0.44986199508405383\n",
            "1\t\t0.9089402952333271\n",
            "1\t\t0.5274332244227043\n",
            "0\t\t0.21673965143585644\n",
            "1\t\t0.5256401373717393\n",
            "1\t\t0.9848122926575671\n",
            "0\t\t0.012341173594689465\n",
            "0\t\t0.02886670912256298\n",
            "0\t\t0.2675686799693276\n",
            "0\t\t0.08893029345353587\n",
            "0\t\t0.02444393539521851\n",
            "1\t\t0.9779824332826053\n",
            "0\t\t0.061158139814860825\n",
            "0\t\t0.009883941272431758\n",
            "0\t\t0.36602325196602986\n"
          ]
        }
      ]
    },
    {
      "cell_type": "code",
      "metadata": {
        "colab": {
          "base_uri": "https://localhost:8080/"
        },
        "id": "PPSUOwaQ_wHJ",
        "outputId": "ce29b13f-64eb-43b3-ade8-81a4eef6acfb"
      },
      "source": [
        "# Calculating accuracy of prediction\n",
        "cnt = 0\n",
        "for x in range(len(y_pred)):\n",
        "    if(y_pred[x] == y_test[x]):\n",
        "        cnt += 1\n",
        "\n",
        "print('Accuracy  :  ', (cnt / (len(y_pred))) * 100)"
      ],
      "execution_count": 74,
      "outputs": [
        {
          "output_type": "stream",
          "name": "stdout",
          "text": [
            "Accuracy  :   88.75\n"
          ]
        }
      ]
    },
    {
      "cell_type": "markdown",
      "metadata": {
        "id": "x6nmajpzhAEn"
      },
      "source": [
        "#Using sklearn LogisticRegression model"
      ]
    },
    {
      "cell_type": "code",
      "metadata": {
        "colab": {
          "base_uri": "https://localhost:8080/"
        },
        "id": "SklvAV_wcrL3",
        "outputId": "eb4217fe-5ac0-4717-ec9b-2858b060a32f"
      },
      "source": [
        "# Fitting Logistic Regression to the Training set\n",
        "from sklearn.linear_model import LogisticRegression\n",
        "lr = LogisticRegression(random_state = 90)\n",
        "\n",
        "#Fit\n",
        "lr.fit(x_train, y_train)\n",
        "\n",
        "#predicting the test label with lr. Predict always takes X as input\n",
        "y_predict = lr.predict(x_test)\n",
        "\n",
        "from sklearn.metrics import accuracy_score\n",
        "print('Accuracy  :  ', accuracy_score(y_predict, y_test))"
      ],
      "execution_count": 75,
      "outputs": [
        {
          "output_type": "stream",
          "name": "stdout",
          "text": [
            "Accuracy  :   0.8875\n"
          ]
        }
      ]
    }
  ]
}